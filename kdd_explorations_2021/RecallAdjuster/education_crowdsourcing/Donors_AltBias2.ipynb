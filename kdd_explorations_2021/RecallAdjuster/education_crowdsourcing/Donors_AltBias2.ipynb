{
 "cells": [
  {
   "cell_type": "code",
   "execution_count": 1,
   "metadata": {},
   "outputs": [
    {
     "name": "stderr",
     "output_type": "stream",
     "text": [
      "/home/hemank/.pyenv/versions/3.6.9/lib/python3.6/site-packages/ipykernel_launcher.py:15: YAMLLoadWarning: calling yaml.load() without Loader=... is deprecated, as the default Loader is unsafe. Please read https://msg.pyyaml.org/load for full details.\n",
      "  from ipykernel import kernelapp as app\n"
     ]
    }
   ],
   "source": [
    "import os\n",
    "import yaml\n",
    "import pandas as pd\n",
    "import sqlalchemy\n",
    "\n",
    "import seaborn as sns\n",
    "import matplotlib.pyplot as plt\n",
    "\n",
    "from IPython.display import display \n",
    "pd.options.display.max_columns = None\n",
    "%matplotlib inline\n",
    "\n",
    "def connect(poolclass=sqlalchemy.pool.QueuePool):\n",
    "    with open(os.path.join(os.path.join('../..','config'), 'donors_db_profile.yaml')) as fd:\n",
    "        config = yaml.load(fd)\n",
    "        dburl = sqlalchemy.engine.url.URL(\n",
    "            \"postgres\",\n",
    "            host=config[\"host\"],\n",
    "            username=config[\"user\"],\n",
    "            database=config[\"db\"],\n",
    "            password=config[\"pass\"],\n",
    "            port=config[\"port\"],\n",
    "        )\n",
    "        return sqlalchemy.create_engine(dburl, poolclass=poolclass)\n",
    "\n",
    "    \n",
    "conn = connect()\n",
    "\n",
    "import RecallAdjuster as ra\n",
    "from importlib import reload\n",
    "import datetime\n",
    "from dateutil.relativedelta import relativedelta\n",
    "import seaborn as sns"
   ]
  },
  {
   "cell_type": "code",
   "execution_count": 2,
   "metadata": {},
   "outputs": [
    {
     "name": "stdout",
     "output_type": "stream",
     "text": [
      "[('2010-05-01', '2010-05-01'), ('2010-05-01', '2010-07-01'), ('2010-07-01', '2010-07-01'), ('2010-07-01', '2010-09-01'), ('2010-09-01', '2010-09-01'), ('2010-09-01', '2010-11-01'), ('2010-11-01', '2010-11-01'), ('2010-11-01', '2011-01-01'), ('2011-01-01', '2011-01-01'), ('2011-01-01', '2011-03-01'), ('2011-03-01', '2011-03-01'), ('2011-03-01', '2011-05-01'), ('2011-05-01', '2011-05-01'), ('2011-05-01', '2011-07-01'), ('2011-07-01', '2011-07-01'), ('2011-07-01', '2011-09-01'), ('2011-09-01', '2011-09-01'), ('2011-09-01', '2011-11-01'), ('2011-11-01', '2011-11-01'), ('2011-11-01', '2012-01-01'), ('2012-01-01', '2012-01-01'), ('2012-01-01', '2012-03-01'), ('2012-03-01', '2012-03-01'), ('2012-03-01', '2012-05-01'), ('2012-05-01', '2012-05-01'), ('2012-05-01', '2012-07-01'), ('2012-07-01', '2012-07-01'), ('2012-07-01', '2012-09-01'), ('2012-09-01', '2012-09-01'), ('2012-09-01', '2012-11-01'), ('2012-11-01', '2012-11-01'), ('2012-11-01', '2013-01-01'), ('2013-01-01', '2013-01-01'), ('2013-01-01', '2013-03-01')]\n"
     ]
    }
   ],
   "source": [
    "base = datetime.datetime.strptime('2013-03-01', '%Y-%m-%d')   #Corresponding to latest train_end_time\\n\",\n",
    "date_pairs = []\n",
    "for x in range(16, -1, -1):\n",
    "    date_pairs.append(\n",
    "        (\n",
    "        (base - relativedelta(months=2*x) - relativedelta(months=2)).strftime('%Y-%m-%d'),\n",
    "        (base - relativedelta(months=2*x) - relativedelta(months=2)).strftime('%Y-%m-%d')\n",
    "        )\n",
    "    )\n",
    "    date_pairs.append(\n",
    "        (\n",
    "        (base - relativedelta(months=2*x) - relativedelta(months=2)).strftime('%Y-%m-%d'),\n",
    "        (base - relativedelta(months=2*x)).strftime('%Y-%m-%d')\n",
    "        )\n",
    "    )\n",
    "print(date_pairs)"
   ]
  },
  {
   "cell_type": "markdown",
   "metadata": {},
   "source": [
    "## Running Undersampling_Frac "
   ]
  },
  {
   "cell_type": "code",
   "execution_count": 3,
   "metadata": {},
   "outputs": [],
   "source": [
    "import SAVE_RecallAdjuster as sra\n",
    "from jinja2 import Template\n",
    "import time"
   ]
  },
  {
   "cell_type": "code",
   "execution_count": 5,
   "metadata": {},
   "outputs": [
    {
     "name": "stdout",
     "output_type": "stream",
     "text": [
      "Dates validated\n",
      "Running Donors Pre-Recall Adjustment\n",
      "Completed Pre-Recall\n",
      "Done creating entities\n",
      "Setting demo values. Not using pre-set values\n",
      "Not running subsampling OR bootstrap based models\n",
      "Running Recall Adjustment\n"
     ]
    },
    {
     "ename": "NameError",
     "evalue": "name 'start_time' is not defined",
     "output_type": "error",
     "traceback": [
      "\u001b[0;31m---------------------------------------------------------------------------\u001b[0m",
      "\u001b[0;31mNameError\u001b[0m                                 Traceback (most recent call last)",
      "\u001b[0;32m<ipython-input-5-25a4be811ac0>\u001b[0m in \u001b[0;36m<module>\u001b[0;34m\u001b[0m\n\u001b[1;32m     16\u001b[0m                           1197, 1198, 1199, 1200, 1201]\n\u001b[1;32m     17\u001b[0m )\n\u001b[0;32m---> 18\u001b[0;31m \u001b[0mprint\u001b[0m\u001b[0;34m(\u001b[0m\u001b[0;34m\"Time Taken=\"\u001b[0m\u001b[0;34m+\u001b[0m\u001b[0mstr\u001b[0m\u001b[0;34m(\u001b[0m\u001b[0mtime\u001b[0m\u001b[0;34m.\u001b[0m\u001b[0mtime\u001b[0m\u001b[0;34m(\u001b[0m\u001b[0;34m)\u001b[0m\u001b[0;34m-\u001b[0m\u001b[0mstart_time\u001b[0m\u001b[0;34m)\u001b[0m\u001b[0;34m)\u001b[0m\u001b[0;34m\u001b[0m\u001b[0;34m\u001b[0m\u001b[0m\n\u001b[0m",
      "\u001b[0;31mNameError\u001b[0m: name 'start_time' is not defined"
     ]
    }
   ],
   "source": [
    "start_time = time.time()\n",
    "myRA_us = sra.RecallAdjuster(\n",
    "        engine=conn,\n",
    "        pg_role='hemank',\n",
    "        schema='hemank_bias_undersample_frac',\n",
    "        experiment_hashes='b7d2fb5750091915ad25e1228c18f6cd',\n",
    "        date_pairs=date_pairs,\n",
    "        list_sizes=[1000],\n",
    "        entity_demos='donors',\n",
    "        demo_col='plevel',\n",
    "        dataset='donors',\n",
    "        model_group_ids = [906, 908, 909, 910, 911, 912, 913, 914, 915, 916, 917, 918,\n",
    "                          943, 944, 947, 948, 951, 952, 955, 956, 959, 960, 963, 964,\n",
    "                          994, 995, 1153, 1160, 1161, 1162, 1163, 1164, 1165, 1172, 1173,\n",
    "                          1174, 1175, 1176, 1178, 1179, 1180, 1181, 1182, 1183, 1184, 1185,\n",
    "                          1186, 1187, 1188, 1189, 1190, 1191, 1192, 1193, 1194, 1195, 1196,\n",
    "                          1197, 1198, 1199, 1200, 1201]\n",
    ")\n",
    "print(\"Time Taken=\"+str(time.time()-start_time))"
   ]
  },
  {
   "cell_type": "markdown",
   "metadata": {},
   "source": [
    "## Running Ovresampling "
   ]
  },
  {
   "cell_type": "code",
   "execution_count": 6,
   "metadata": {},
   "outputs": [
    {
     "name": "stderr",
     "output_type": "stream",
     "text": [
      "/home/hemank/.pyenv/versions/3.6.9/lib/python3.6/site-packages/ipykernel_launcher.py:15: YAMLLoadWarning: calling yaml.load() without Loader=... is deprecated, as the default Loader is unsafe. Please read https://msg.pyyaml.org/load for full details.\n",
      "  from ipykernel import kernelapp as app\n"
     ]
    },
    {
     "data": {
      "text/plain": [
       "<module 'SAVE_RecallAdjuster' from '/mnt/data/users/hemank/peeps-chili/code_2/education_crowdsourcing/SAVE_RecallAdjuster.py'>"
      ]
     },
     "execution_count": 6,
     "metadata": {},
     "output_type": "execute_result"
    }
   ],
   "source": [
    "conn.dispose()\n",
    "conn = connect()\n",
    "reload(sra)"
   ]
  },
  {
   "cell_type": "code",
   "execution_count": 7,
   "metadata": {},
   "outputs": [
    {
     "name": "stdout",
     "output_type": "stream",
     "text": [
      "Dates validated\n",
      "Running Donors Pre-Recall Adjustment\n",
      "Completed Pre-Recall\n",
      "Done creating entities\n",
      "Setting demo values. Not using pre-set values\n",
      "Not running subsampling OR bootstrap based models\n",
      "Running Recall Adjustment\n",
      "Time Taken=44724.35204386711\n"
     ]
    }
   ],
   "source": [
    "start_time = time.time()\n",
    "myRA_us = sra.RecallAdjuster(\n",
    "        engine=conn,\n",
    "        pg_role='hemank',\n",
    "        schema='hemank_bias_oversample',\n",
    "        experiment_hashes='6dfe49c91672452f7552896dbcc2204e',\n",
    "        date_pairs=date_pairs,\n",
    "        list_sizes=[1000],\n",
    "        entity_demos='donors',\n",
    "        demo_col='plevel',\n",
    "        dataset='donors',\n",
    "        model_group_ids = [906, 908, 909, 910, 911, 912, 913, 914, 915, 916, 917, 918,\n",
    "                          943, 944, 947, 948, 951, 952, 955, 956, 959, 960, 963, 964,\n",
    "                          994, 995, 1153, 1160, 1161, 1162, 1163, 1164, 1165, 1172, 1173,\n",
    "                          1174, 1175, 1176, 1178, 1179, 1180, 1181, 1182, 1183, 1184, 1185,\n",
    "                          1186, 1187, 1188, 1189, 1190, 1191, 1192, 1193, 1194, 1195, 1196,\n",
    "                          1197, 1198, 1199, 1200, 1201]\n",
    ")\n",
    "print(\"Time Taken=\"+str(time.time()-start_time))"
   ]
  },
  {
   "cell_type": "markdown",
   "metadata": {},
   "source": [
    "## Running Oversampling - Frac"
   ]
  },
  {
   "cell_type": "code",
   "execution_count": 9,
   "metadata": {},
   "outputs": [
    {
     "name": "stderr",
     "output_type": "stream",
     "text": [
      "/home/hemank/.pyenv/versions/3.6.9/lib/python3.6/site-packages/ipykernel_launcher.py:15: YAMLLoadWarning: calling yaml.load() without Loader=... is deprecated, as the default Loader is unsafe. Please read https://msg.pyyaml.org/load for full details.\n",
      "  from ipykernel import kernelapp as app\n"
     ]
    },
    {
     "data": {
      "text/plain": [
       "<module 'SAVE_RecallAdjuster' from '/mnt/data/users/hemank/peeps-chili/code_2/education_crowdsourcing/SAVE_RecallAdjuster.py'>"
      ]
     },
     "execution_count": 9,
     "metadata": {},
     "output_type": "execute_result"
    }
   ],
   "source": [
    "conn.dispose()\n",
    "conn = connect()\n",
    "reload(sra)"
   ]
  },
  {
   "cell_type": "code",
   "execution_count": 10,
   "metadata": {},
   "outputs": [
    {
     "name": "stdout",
     "output_type": "stream",
     "text": [
      "Dates validated\n",
      "Running Donors Pre-Recall Adjustment\n",
      "Completed Pre-Recall\n",
      "Done creating entities\n",
      "Setting demo values. Not using pre-set values\n",
      "Not running subsampling OR bootstrap based models\n",
      "Running Recall Adjustment\n",
      "Time Taken=19884.262444734573\n"
     ]
    }
   ],
   "source": [
    "start_time = time.time()\n",
    "myRA_us = sra.RecallAdjuster(\n",
    "        engine=conn,\n",
    "        pg_role='hemank',\n",
    "        schema='hemank_bias_oversample_frac',\n",
    "        experiment_hashes='9bed34c8d837b3eb44f5f1ad3844eb3d',\n",
    "        date_pairs=date_pairs,\n",
    "        list_sizes=[1000],\n",
    "        entity_demos='donors',\n",
    "        demo_col='plevel',\n",
    "        dataset='donors',\n",
    "        model_group_ids = [906, 908, 909, 910, 911, 912, 913, 914, 915, 916, 917, 918,\n",
    "                          943, 944, 947, 948, 951, 952, 955, 956, 959, 960, 963, 964,\n",
    "                          994, 995, 1153, 1160, 1161, 1162, 1163, 1164, 1165, 1172, 1173,\n",
    "                          1174, 1175, 1176, 1178, 1179, 1180, 1181, 1182, 1183, 1184, 1185,\n",
    "                          1186, 1187, 1188, 1189, 1190, 1191, 1192, 1193, 1194, 1195, 1196,\n",
    "                          1197, 1198, 1199, 1200, 1201]\n",
    ")\n",
    "print(\"Time Taken=\"+str(time.time()-start_time))"
   ]
  },
  {
   "cell_type": "code",
   "execution_count": null,
   "metadata": {},
   "outputs": [],
   "source": []
  }
 ],
 "metadata": {
  "kernelspec": {
   "display_name": "Python 3",
   "language": "python",
   "name": "python3"
  },
  "language_info": {
   "codemirror_mode": {
    "name": "ipython",
    "version": 3
   },
   "file_extension": ".py",
   "mimetype": "text/x-python",
   "name": "python",
   "nbconvert_exporter": "python",
   "pygments_lexer": "ipython3",
   "version": "3.6.9"
  }
 },
 "nbformat": 4,
 "nbformat_minor": 4
}
